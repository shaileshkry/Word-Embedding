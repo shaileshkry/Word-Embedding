{
 "cells": [
  {
   "cell_type": "code",
   "execution_count": 36,
   "id": "14bb54d6",
   "metadata": {},
   "outputs": [],
   "source": [
    "import re\n",
    "from gensim.models import Word2Vec\n",
    "from nltk.tokenize import word_tokenize,sent_tokenize"
   ]
  },
  {
   "cell_type": "code",
   "execution_count": 37,
   "id": "000ad414",
   "metadata": {},
   "outputs": [],
   "source": [
    "txt=\"\"\"A hint of controversy as we wrap up the coverage of the 3rd T20I. Was Rohit declared retired out / retired hurt.\n",
    "there\n",
    "\"\"\""
   ]
  },
  {
   "cell_type": "code",
   "execution_count": 38,
   "id": "3c271555",
   "metadata": {},
   "outputs": [
    {
     "name": "stdout",
     "output_type": "stream",
     "text": [
      "a hint of controversy as we wrap up the coverage of the 3rd t20i.\n",
      "was rohit declared retired out / retired hurt.\n",
      "there\n",
      "[['a', 'hint', 'of', 'controversy', 'as', 'we', 'wrap', 'up', 'the', 'coverage', 'of', 'the', '3rd', 't20i'], ['was', 'rohit', 'declared', 'retired', 'out', 'retired', 'hurt'], ['there']]\n"
     ]
    }
   ],
   "source": [
    "sentences=[]\n",
    "for sentence in sent_tokenize(txt):\n",
    "    print(sentence.lower())\n",
    "    sentence=re.sub(r'[^\\w\\s]','',sentence)\n",
    "    #print(sentence.split())\n",
    "    sentences.append(sentence.lower().split())\n",
    "print(sentences)"
   ]
  },
  {
   "cell_type": "code",
   "execution_count": 39,
   "id": "cc8e9ba2",
   "metadata": {},
   "outputs": [
    {
     "data": {
      "text/plain": [
       "<gensim.models.word2vec.Word2Vec at 0x225fa592a50>"
      ]
     },
     "execution_count": 39,
     "metadata": {},
     "output_type": "execute_result"
    }
   ],
   "source": [
    "model=Word2Vec(sentences=sentences,min_count=1)\n",
    "model"
   ]
  },
  {
   "cell_type": "code",
   "execution_count": 40,
   "id": "db198c59",
   "metadata": {},
   "outputs": [
    {
     "data": {
      "text/plain": [
       "array([-0.00713902,  0.00124103, -0.00717672, -0.00224462,  0.0037193 ,\n",
       "        0.00583312,  0.00119818,  0.00210273, -0.00411039,  0.00722533,\n",
       "       -0.00630704,  0.00464722, -0.00821997,  0.00203647, -0.00497705,\n",
       "       -0.00424769, -0.00310898,  0.00565521,  0.0057984 , -0.00497465,\n",
       "        0.00077333, -0.00849578,  0.00780981,  0.00925729, -0.00274233,\n",
       "        0.00080022,  0.00074665,  0.00547788, -0.00860608,  0.00058446,\n",
       "        0.00686942,  0.00223159,  0.00112468, -0.00932216,  0.00848237,\n",
       "       -0.00626413, -0.00299237,  0.00349379, -0.00077263,  0.00141129,\n",
       "        0.00178199, -0.0068289 , -0.00972481,  0.00904058,  0.00619805,\n",
       "       -0.00691293,  0.00340348,  0.00020606,  0.00475375, -0.00711994,\n",
       "        0.00402695,  0.00434743,  0.00995737, -0.00447374, -0.00138926,\n",
       "       -0.00731732, -0.00969783, -0.00908026, -0.00102275, -0.00650329,\n",
       "        0.00484973, -0.00616403,  0.00251919,  0.00073944, -0.00339215,\n",
       "       -0.00097922,  0.00997913,  0.00914589, -0.00446183,  0.00908303,\n",
       "       -0.00564176,  0.00593092, -0.00309722,  0.00343175,  0.00301723,\n",
       "        0.00690046, -0.00237388,  0.00877504,  0.00758943, -0.00954765,\n",
       "       -0.00800821, -0.0076379 ,  0.00292326, -0.00279472, -0.00692952,\n",
       "       -0.00812826,  0.00830918,  0.00199049, -0.00932802, -0.00479272,\n",
       "        0.00313674, -0.00471321,  0.00528084, -0.00423344,  0.0026418 ,\n",
       "       -0.00804569,  0.00620989,  0.00481889,  0.00078719,  0.00301345],\n",
       "      dtype=float32)"
      ]
     },
     "execution_count": 40,
     "metadata": {},
     "output_type": "execute_result"
    }
   ],
   "source": [
    "model.wv['hint']"
   ]
  },
  {
   "cell_type": "code",
   "execution_count": 41,
   "id": "77099273",
   "metadata": {},
   "outputs": [
    {
     "data": {
      "text/plain": [
       "(100,)"
      ]
     },
     "execution_count": 41,
     "metadata": {},
     "output_type": "execute_result"
    }
   ],
   "source": [
    "model.wv['hint'].shape"
   ]
  },
  {
   "cell_type": "code",
   "execution_count": 42,
   "id": "e5e34b1f",
   "metadata": {},
   "outputs": [
    {
     "data": {
      "text/plain": [
       "[('t20i', 0.2529010474681854),\n",
       " ('of', 0.17018885910511017),\n",
       " ('3rd', 0.15016482770442963),\n",
       " ('controversy', 0.13887983560562134),\n",
       " ('declared', 0.10852005332708359),\n",
       " ('as', 0.03476494550704956),\n",
       " ('a', 0.03304855898022652),\n",
       " ('rohit', 0.01606954261660576),\n",
       " ('retired', 0.0045158835127949715),\n",
       " ('hurt', -0.005865057930350304)]"
      ]
     },
     "execution_count": 42,
     "metadata": {},
     "output_type": "execute_result"
    }
   ],
   "source": [
    "model.wv.most_similar('hint')"
   ]
  },
  {
   "cell_type": "code",
   "execution_count": 43,
   "id": "ccc4ca6f",
   "metadata": {},
   "outputs": [
    {
     "data": {
      "text/plain": [
       "[('of', 0.1727122664451599),\n",
       " ('controversy', 0.1669759303331375),\n",
       " ('a', 0.1326829195022583),\n",
       " ('we', 0.11117220669984818),\n",
       " ('coverage', 0.10941573232412338),\n",
       " ('the', 0.07967396080493927),\n",
       " ('out', 0.05980765074491501),\n",
       " ('there', 0.041282184422016144),\n",
       " ('wrap', 0.03769826143980026),\n",
       " ('rohit', 0.013273391872644424)]"
      ]
     },
     "execution_count": 43,
     "metadata": {},
     "output_type": "execute_result"
    }
   ],
   "source": [
    "model.wv.most_similar('hurt')"
   ]
  },
  {
   "cell_type": "code",
   "execution_count": null,
   "id": "f3387869",
   "metadata": {},
   "outputs": [],
   "source": []
  },
  {
   "cell_type": "code",
   "execution_count": null,
   "id": "0b7bed4f",
   "metadata": {},
   "outputs": [],
   "source": []
  }
 ],
 "metadata": {
  "kernelspec": {
   "display_name": "Python 3 (ipykernel)",
   "language": "python",
   "name": "python3"
  },
  "language_info": {
   "codemirror_mode": {
    "name": "ipython",
    "version": 3
   },
   "file_extension": ".py",
   "mimetype": "text/x-python",
   "name": "python",
   "nbconvert_exporter": "python",
   "pygments_lexer": "ipython3",
   "version": "3.11.5"
  }
 },
 "nbformat": 4,
 "nbformat_minor": 5
}
